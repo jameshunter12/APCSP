{
 "cells": [
  {
   "attachments": {},
   "cell_type": "markdown",
   "metadata": {},
   "source": [
    "# P4-M 4/25 Data Analysis\n",
    "> Data Analysis using Numpy and Pandas\n",
    "- toc: true\n",
    "- author: Ahad, James, Shruthi, Quinn, Yasha, Joshua\n",
    "- badges: false\n",
    "- comments: true\n",
    "- categories: [student]\n",
    "- type: ap\n",
    "- week: 31"
   ]
  },
  {
   "cell_type": "markdown",
   "metadata": {},
   "source": [
    "# Lesson Plan: Introduction to Data Analysis with NumPy and Pandas\n",
    "## Big Idea 2: Data Analysis with Python Libraries\n",
    "## Learning Objectives:\n",
    "- Understand the basics of data analysis\n",
    "- Learn about NumPy and Pandas libraries\n",
    "- Import and manipulate data using NumPy and Pandas\n",
    "- Perform basic data analysis tasks using NumPy and Pandas\n",
    "\n",
    "## Materials:\n",
    "Laptop/desktop with Python and Jupyter Notebook installed Sample data files (CSV format)\n",
    "\n",
    "### Introduction: Shruthi\n",
    "\n",
    "- Introduction to data analysis and its importance\n",
    "- Explanation of NumPy and Pandas libraries\n",
    "- Overview of the lesson plan and learning objectives\n",
    "\n",
    "### Part 1: Josh\n",
    "\n",
    "- Explanation of NumPy and its uses in data analysis\n",
    "- Importing NumPy library\n",
    "- Creating NumPy arrays and performing basic array operations\n",
    "- Example of using NumPy for mathematical operations on data\n",
    "\n",
    "### Part 2 Pandas: Ahad\n",
    "\n",
    "- Explanation of Pandas and their uses in data analysis\n",
    "- Importing Pandas library\n",
    "- Loading data into Pandas DataFrames from CSV files\n",
    "- Manipulating and exploring data in Pandas DataFrames\n",
    "- Example of using Pandas for data analysis tasks such as filtering and sorting\n",
    "\n",
    "### Part 3: Data Analysis with NumPy and Pandas: Yasha\n",
    "\n",
    "- Example of analyzing data using both NumPy and Pandas libraries\n",
    "- Importing data into NumPy and Pandas Performing basic data analysis tasks such as mean, median, and standard deviation Visualization of data using Matplotlib library\n",
    "\n",
    "### Conclusion: James\n",
    "\n",
    "- Recap of what was covered in the lesson\n",
    "- Importance of data analysis and how it can be used in various fields\n",
    "- Resources for further learning about NumPy and Pandas libraries\n",
    "\n",
    "### Assessment: Quinn\n",
    "\n",
    "- Quizzes and exercises based on the covered topics\n",
    "- Practical assessment on analyzing data using NumPy and Pandas"
   ]
  }
 ],
 "metadata": {
  "kernelspec": {
   "display_name": "Python 3",
   "language": "python",
   "name": "python3"
  },
  "language_info": {
   "name": "python",
   "version": "3.8.10"
  },
  "orig_nbformat": 4,
  "vscode": {
   "interpreter": {
    "hash": "916dbcbb3f70747c44a77c7bcd40155683ae19c65e1c03b4aa3499c5328201f1"
   }
  }
 },
 "nbformat": 4,
 "nbformat_minor": 2
}
